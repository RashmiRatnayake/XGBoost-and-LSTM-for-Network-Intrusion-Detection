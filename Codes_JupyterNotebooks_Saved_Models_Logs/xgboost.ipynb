{
 "cells": [
  {
   "cell_type": "code",
   "execution_count": 1,
   "metadata": {},
   "outputs": [
    {
     "name": "stderr",
     "output_type": "stream",
     "text": [
      "Using TensorFlow backend.\n"
     ]
    }
   ],
   "source": [
    "from __future__ import print_function\n",
    "from sklearn.model_selection import train_test_split\n",
    "import pandas as pd\n",
    "import numpy as np\n",
    "np.random.seed(1337)  # for reproducibility\n",
    "from keras.preprocessing import sequence\n",
    "from keras.utils import np_utils\n",
    "from keras.models import Sequential\n",
    "from keras.layers import Dense, Dropout, Activation, Embedding, BatchNormalization\n",
    "from keras.layers import LSTM, SimpleRNN, GRU\n",
    "from keras.datasets import imdb\n",
    "from keras.utils.np_utils import to_categorical\n",
    "from sklearn.metrics import (precision_score, recall_score,f1_score, accuracy_score,mean_squared_error,mean_absolute_error)\n",
    "from sklearn import metrics\n",
    "from sklearn.preprocessing import Normalizer\n",
    "import h5py\n",
    "from keras import callbacks\n",
    "from keras.callbacks import ModelCheckpoint, EarlyStopping, ReduceLROnPlateau, CSVLogger\n",
    "from sklearn.preprocessing import MinMaxScaler\n",
    "from sklearn import preprocessing\n",
    "from sklearn.metrics import classification_report\n",
    "from sklearn.preprocessing import LabelEncoder\n",
    "\n",
    "# Import xgboost\n",
    "import xgboost as xgb\n",
    "from matplotlib import pyplot\n",
    "\n",
    "\n",
    "import tensorflow as tf\n",
    "from keras.backend.tensorflow_backend import set_session\n",
    "config = tf.ConfigProto()\n",
    "config.gpu_options.per_process_gpu_memory_fraction = 0.5\n",
    "set_session(tf.Session(config=config))\n",
    "\n",
    "# Encode text values to indexes(i.e. [1],[2],[3] for red,green,blue).\n",
    "def encode_text_index(df, name):\n",
    "    le = preprocessing.LabelEncoder()\n",
    "    df[name] = le.fit_transform(df[name])\n",
    "    return le.classes_\n",
    "\n",
    "# Convert a Pandas dataframe to the x,y inputs that TensorFlow needs\n",
    "def to_xy(df, target):\n",
    "    result = []\n",
    "    for x in df.columns:\n",
    "        if x != target:\n",
    "            result.append(x)\n",
    "    # find out the type of the target column.  Is it really this hard? :(\n",
    "    target_type = df[target].dtypes\n",
    "    target_type = target_type[0] if hasattr(\n",
    "        target_type, '__iter__') else target_type\n",
    "    # Encode to int for classification, float otherwise. TensorFlow likes 32 bits.\n",
    "    if target_type in (np.int64, np.int32):\n",
    "        # Classification\n",
    "        dummies = pd.get_dummies(df[target])\n",
    "        return df[result].values.astype(np.float32), dummies.values.astype(np.float32)\n",
    "    # Regression\n",
    "    return df[result].values.astype(np.float32), df[[target]].values.astype(np.float32)"
   ]
  },
  {
   "cell_type": "code",
   "execution_count": 2,
   "metadata": {},
   "outputs": [
    {
     "name": "stdout",
     "output_type": "stream",
     "text": [
      "['normal' 'attack']\n",
      "1    67343\n",
      "0    58630\n",
      "Name: class, dtype: int64\n",
      "0    12833\n",
      "1     9710\n",
      "Name: class, dtype: int64\n",
      "<class 'pandas.core.frame.DataFrame'>\n",
      "RangeIndex: 22543 entries, 125973 to 148515\n",
      "Columns: 123 entries, duration to SH\n",
      "dtypes: float64(15), int64(24), uint8(84)\n",
      "memory usage: 8.5 MB\n",
      "y_train (array([0, 1]), array([58630, 67343]))\n",
      "y_test (array([0, 1]), array([12833,  9710]))\n"
     ]
    },
    {
     "name": "stderr",
     "output_type": "stream",
     "text": [
      "/home/dsu/anaconda3/lib/python3.7/site-packages/ipykernel_launcher.py:132: DeprecationWarning: \n",
      ".ix is deprecated. Please use\n",
      ".loc for label based indexing or\n",
      ".iloc for positional indexing\n",
      "\n",
      "See the documentation here:\n",
      "http://pandas.pydata.org/pandas-docs/stable/indexing.html#ix-indexer-is-deprecated\n",
      "/home/dsu/anaconda3/lib/python3.7/site-packages/ipykernel_launcher.py:133: DeprecationWarning: \n",
      ".ix is deprecated. Please use\n",
      ".loc for label based indexing or\n",
      ".iloc for positional indexing\n",
      "\n",
      "See the documentation here:\n",
      "http://pandas.pydata.org/pandas-docs/stable/indexing.html#ix-indexer-is-deprecated\n"
     ]
    }
   ],
   "source": [
    "traindata = pd.read_csv('KDDTrain+.csv', header=None)\n",
    "testdata = pd.read_csv('KDDTest+.csv', header=None)\n",
    "\n",
    "\n",
    "columns = [\n",
    "    'duration',\n",
    "    'protocol_type',\n",
    "    'service',\n",
    "    'flag',\n",
    "    'src_bytes',\n",
    "    'dst_bytes',\n",
    "    'land',\n",
    "    'wrong_fragment',\n",
    "    'urgent',\n",
    "    'hot',\n",
    "    'num_failed_logins',\n",
    "    'logged_in',\n",
    "    'num_compromised',\n",
    "    'root_shell',\n",
    "    'su_attempted',\n",
    "    'num_root',\n",
    "    'num_file_creations',\n",
    "    'num_shells',\n",
    "    'num_access_files',\n",
    "    'num_outbound_cmds',\n",
    "    'is_host_login',\n",
    "    'is_guest_login',\n",
    "    'count',\n",
    "    'srv_count',\n",
    "    'serror_rate',\n",
    "    'srv_serror_rate',\n",
    "    'rerror_rate',\n",
    "    'srv_rerror_rate',\n",
    "    'same_srv_rate',\n",
    "    'diff_srv_rate',\n",
    "    'srv_diff_host_rate',\n",
    "    'dst_host_count',\n",
    "    'dst_host_srv_count',\n",
    "    'dst_host_same_srv_rate',\n",
    "    'dst_host_diff_srv_rate',\n",
    "    'dst_host_same_src_port_rate',\n",
    "    'dst_host_srv_diff_host_rate',\n",
    "    'dst_host_serror_rate',\n",
    "    'dst_host_srv_serror_rate',\n",
    "    'dst_host_rerror_rate',\n",
    "    'dst_host_srv_rerror_rate',\n",
    "    'class',\n",
    "    'difficulty_level'\n",
    "]\n",
    "traindata.columns=columns\n",
    "testdata.columns=columns\n",
    "\n",
    "del traindata[\"difficulty_level\"]\n",
    "del testdata[\"difficulty_level\"]\n",
    "#traindata.info()\n",
    "#testdata.info()\n",
    "trainlen=traindata.shape[0]\n",
    "\n",
    "alldata=pd.concat([traindata, testdata], axis=0, join='outer',ignore_index=True)\n",
    "#print(alldata)\n",
    "#print(alldata['protocol_type'])\n",
    "#class_names=alldata['class'].unique()\n",
    "#print(class_names)\n",
    "\n",
    "mask = alldata['class'] != 'normal' \n",
    "alldata.loc[mask, 'class'] = 'attack'\n",
    "\n",
    "class_names=alldata['class'].unique()\n",
    "print(class_names)\n",
    "#alldata.head()\n",
    "\n",
    "\n",
    "#traindata.info()\n",
    "#traindata.describe()\n",
    "protocol_type_dummy=pd.get_dummies(alldata['protocol_type'])\n",
    "alldata=pd.concat([alldata,protocol_type_dummy],axis=1)\n",
    "del alldata['protocol_type']\n",
    "\n",
    "\n",
    "service_dummy=pd.get_dummies(alldata[\"service\"])\n",
    "alldata=pd.concat([alldata,service_dummy],axis=1)\n",
    "del alldata[\"service\"]\n",
    "\n",
    "flag_dummy=pd.get_dummies(alldata[\"flag\"])\n",
    "alldata=pd.concat([alldata,flag_dummy],axis=1)\n",
    "del alldata[\"flag\"]\n",
    "#del alldata[\"dst_host_diff_srv_rate\"]\n",
    "#del alldata[\"dst_host_same_src_port_rate\"]\n",
    "#del alldata[\"dst_host_srv_diff_host_rate\"]\n",
    "#del alldata[\"dst_host_serror_rate\"]\n",
    "#del alldata[\"dst_host_srv_serror_rate\"]\n",
    "#del alldata[\"duration\"]\n",
    "#del alldata[\"dst_bytes\"]\n",
    "#del alldata[\"src_bytes\"]\n",
    "#del alldata[\"wrong_fragment\"]\n",
    "#del alldata[\"urgent\"]\n",
    "#del alldata[\"hot\"]\n",
    "#del alldata[\"num_file_creations\"]\n",
    "#del alldata[\"num_access_files\"]\n",
    "#del alldata[\"num_shells\"]\n",
    "#del alldata[\"num_outbound_cmds\"]\n",
    "#del alldata[\"is_host_login\"]\n",
    "#del alldata[\"is_guest_login\"]\n",
    "#del alldata[\"count\"]\n",
    "#del alldata[\"srv_count\"]\n",
    "#del alldata[\"serror_rate\"]\n",
    "#del alldata[\"srv_serror_rate\"]\n",
    "#del alldata[\"rerror_rate\"]\n",
    "#del alldata[\"srv_rerror_rate\"]\n",
    "  \n",
    "#print(alldata.head())\n",
    "\n",
    "#print(protocol_type_dummy)\n",
    "\n",
    "#encode_text_index(alldata, 'class')\n",
    "alldata[\"class\"] = LabelEncoder().fit_transform(alldata[\"class\"])\n",
    "\n",
    "# Break into X (predictors) & y (prediction)\n",
    "#x, y = to_xy(alldata,'class')\n",
    "\n",
    "\n",
    "#X = alldata.drop('class', axis=1)\n",
    "#Y = alldata[['class']]\n",
    "#scaler = Normalizer().fit(alldata.iloc[:,:-1])\n",
    "#trainX = scaler.transform(alldata.iloc[:,:-1])\n",
    "# summarize transformed data\n",
    "#np.set_printoptions(precision=3)\n",
    "#print(trainX[0:5,:])\n",
    "\n",
    "#print(\"trainX:\",trainX)\n",
    "\n",
    "traindata=alldata.ix[0:trainlen-1,:]\n",
    "testdata=alldata.ix[trainlen:alldata.shape[0],:]\n",
    "\n",
    "print(traindata['class'].value_counts())\n",
    "print(testdata['class'].value_counts())\n",
    "\n",
    "\n",
    "testdata.info()\n",
    "# Create arrays for the features and the target: \n",
    "#X_train, y_train = traindata.iloc[:,:-1], traindata.iloc[:,-1]\n",
    "#X_test, y_test = testdata.iloc[:,:-1], testdata.iloc[:,-1]\n",
    "\n",
    "y_train = traindata[\"class\"]\n",
    "y_test = testdata[\"class\"]\n",
    "X_train = traindata.drop('class', axis=1)\n",
    "X_test = testdata.drop('class',axis=1)\n",
    "\n",
    "\n",
    "print(\"y_train\",np.unique(y_train,return_counts=True))\n",
    "print(\"y_test\",np.unique(y_test,return_counts=True))\n",
    "\n"
   ]
  },
  {
   "cell_type": "code",
   "execution_count": 86,
   "metadata": {},
   "outputs": [
    {
     "name": "stdout",
     "output_type": "stream",
     "text": [
      "TIME BEGIN: 2019-09-25 14:43:41.444455\n",
      "accuracy: 0.786408\n",
      "[2.5760445e-03 1.6294181e-01 2.8126346e-02 0.0000000e+00 2.2239548e-03\n",
      " 0.0000000e+00 5.2676544e-02 5.6127021e-03 2.7384388e-04 3.7177345e-03\n",
      " 2.3380977e-04 0.0000000e+00 3.3258522e-04 4.1830419e-03 0.0000000e+00\n",
      " 1.5323494e-03 0.0000000e+00 0.0000000e+00 2.4665499e-02 1.9693073e-02\n",
      " 1.3270585e-03 1.3404934e-03 2.9690256e-03 1.6031144e-03 3.7020439e-04\n",
      " 1.3139127e-03 5.1050138e-04 7.5941137e-04 8.2168984e-04 1.0054725e-02\n",
      " 3.0804463e-02 2.5907813e-03 1.8933913e-02 4.4838535e-03 6.6304905e-03\n",
      " 9.2269909e-03 8.4034372e-03 2.0043256e-03 1.1729187e-02 2.7106050e-04\n",
      " 1.4327113e-04 1.2090540e-03 5.2285951e-04 0.0000000e+00 0.0000000e+00\n",
      " 2.0899503e-04 0.0000000e+00 0.0000000e+00 0.0000000e+00 0.0000000e+00\n",
      " 0.0000000e+00 0.0000000e+00 0.0000000e+00 2.7587782e-03 0.0000000e+00\n",
      " 3.5313838e-03 3.0276126e-01 0.0000000e+00 0.0000000e+00 1.2407980e-03\n",
      " 1.1280989e-03 6.4545125e-03 0.0000000e+00 0.0000000e+00 0.0000000e+00\n",
      " 2.2668844e-01 0.0000000e+00 0.0000000e+00 0.0000000e+00 0.0000000e+00\n",
      " 0.0000000e+00 0.0000000e+00 0.0000000e+00 0.0000000e+00 0.0000000e+00\n",
      " 0.0000000e+00 0.0000000e+00 0.0000000e+00 0.0000000e+00 0.0000000e+00\n",
      " 0.0000000e+00 0.0000000e+00 0.0000000e+00 0.0000000e+00 0.0000000e+00\n",
      " 6.9353805e-04 0.0000000e+00 0.0000000e+00 2.8499714e-04 0.0000000e+00\n",
      " 2.2008741e-02 0.0000000e+00 0.0000000e+00 0.0000000e+00 0.0000000e+00\n",
      " 0.0000000e+00 0.0000000e+00 0.0000000e+00 0.0000000e+00 0.0000000e+00\n",
      " 0.0000000e+00 8.8496308e-05 0.0000000e+00 0.0000000e+00 3.7584978e-04\n",
      " 0.0000000e+00 2.1361057e-03 0.0000000e+00 0.0000000e+00 0.0000000e+00\n",
      " 0.0000000e+00 0.0000000e+00 0.0000000e+00 3.5789848e-04 0.0000000e+00\n",
      " 1.4460719e-03 0.0000000e+00 1.0228831e-03 0.0000000e+00 0.0000000e+00\n",
      " 0.0000000e+00 0.0000000e+00]\n"
     ]
    },
    {
     "data": {
      "image/png": "[encoded data removed]",
      "text/plain": [
       "<Figure size 432x288 with 1 Axes>"
      ]
     },
     "metadata": {
      "needs_background": "light"
     },
     "output_type": "display_data"
    },
    {
     "name": "stdout",
     "output_type": "stream",
     "text": [
      "TIME END: 2019-09-25 14:44:11.199665\n"
     ]
    }
   ],
   "source": [
    "import datetime\n",
    "print(\"TIME BEGIN:\",datetime.datetime.now())\n",
    "# Instantiate the XGBClassifier: xg_cl\n",
    "#xg_cl =xgb.XGBClassifier(max_depth=12,subsample=0.33,objective='binary:logistic',n_estimators=10,learning_rate = 0.01)\n",
    "#xg_cl =xgb.XGBClassifier(objective='binary:logistic',, n_estimators=10, learning_rate=0.5,seed=123)\n",
    "xg_cl=xgb.XGBClassifier(objective='binary:logistic',learning_rate=0.9,seed=0)\n",
    "\n",
    "# Fit the classifier to the training set\n",
    "xg_cl.fit(X_train,y_train)\n",
    "\n",
    "# Predict the labels of the test set: preds\n",
    "preds = xg_cl.predict(X_test)\n",
    "\n",
    "# Compute the accuracy: accuracy\n",
    "accuracy = float(np.sum(preds==y_test))/y_test.shape[0]\n",
    "print(\"accuracy: %f\" % (accuracy))\n",
    "\n",
    "print(xg_cl.feature_importances_)\n",
    "\n",
    "# plot\n",
    "pyplot.bar(range(len(xg_cl.feature_importances_)), xg_cl.feature_importances_)\n",
    "pyplot.show()\n",
    "\n",
    "#print(\"y_test-\",np.unique(y_test,return_counts=True))\n",
    "print(\"TIME END:\",datetime.datetime.now())"
   ]
  },
  {
   "cell_type": "code",
   "execution_count": 87,
   "metadata": {},
   "outputs": [
    {
     "name": "stdout",
     "output_type": "stream",
     "text": [
      "Accuracy: 78.64%\n"
     ]
    }
   ],
   "source": [
    "from sklearn.metrics import accuracy_score\n",
    "accuracy2 = accuracy_score(y_test, preds)\n",
    "print(\"Accuracy: %.2f%%\" % (accuracy2 * 100.0))"
   ]
  },
  {
   "cell_type": "code",
   "execution_count": 88,
   "metadata": {},
   "outputs": [
    {
     "name": "stdout",
     "output_type": "stream",
     "text": [
      "              precision    recall  f1-score   support\n",
      "\n",
      "           0       0.97      0.65      0.77     12833\n",
      "           1       0.68      0.97      0.80      9710\n",
      "\n",
      "    accuracy                           0.79     22543\n",
      "   macro avg       0.82      0.81      0.79     22543\n",
      "weighted avg       0.84      0.79      0.78     22543\n",
      "\n"
     ]
    }
   ],
   "source": [
    "print(classification_report(y_test, preds))"
   ]
  },
  {
   "cell_type": "code",
   "execution_count": 89,
   "metadata": {},
   "outputs": [
    {
     "data": {
      "text/plain": [
       "0.7967754189000971"
      ]
     },
     "execution_count": 89,
     "metadata": {},
     "output_type": "execute_result"
    }
   ],
   "source": [
    "from sklearn.metrics import f1_score\n",
    "metrics.f1_score(y_test, preds, labels=np.unique(preds))\n",
    "\n",
    "\n"
   ]
  },
  {
   "cell_type": "code",
   "execution_count": 90,
   "metadata": {},
   "outputs": [
    {
     "name": "stdout",
     "output_type": "stream",
     "text": [
      "preds- (array([0, 1]), array([ 8560, 13983]))\n",
      "y_test- (array([0, 1]), array([12833,  9710]))\n"
     ]
    }
   ],
   "source": [
    "print(\"preds-\",np.unique(preds,return_counts=True))\n",
    "print(\"y_test-\",np.unique(y_test,return_counts=True))"
   ]
  },
  {
   "cell_type": "code",
   "execution_count": 91,
   "metadata": {},
   "outputs": [
    {
     "data": {
      "image/png": "[encoded data removed]",
      "text/plain": [
       "<Figure size 432x288 with 1 Axes>"
      ]
     },
     "metadata": {
      "needs_background": "light"
     },
     "output_type": "display_data"
    }
   ],
   "source": [
    "from xgboost import plot_importance\n",
    "\n",
    "plot_importance(xg_cl)\n",
    "pyplot.show()"
   ]
  },
  {
   "cell_type": "code",
   "execution_count": 92,
   "metadata": {},
   "outputs": [
    {
     "name": "stdout",
     "output_type": "stream",
     "text": [
      "[[0.]\n",
      " [0.]\n",
      " [0.]\n",
      " ...\n",
      " [0.]\n",
      " [0.]\n",
      " [0.]]\n"
     ]
    }
   ],
   "source": [
    "from sklearn.feature_selection import SelectFromModel\n",
    "selection = SelectFromModel(xg_cl, threshold=0.3, prefit=True)\n",
    "selected_dataset = selection.transform(X_test)\n",
    "print(selected_dataset)"
   ]
  },
  {
   "cell_type": "code",
   "execution_count": 93,
   "metadata": {},
   "outputs": [
    {
     "data": {
      "text/html": [
       "<div>\n",
       "<style scoped>\n",
       "    .dataframe tbody tr th:only-of-type {\n",
       "        vertical-align: middle;\n",
       "    }\n",
       "\n",
       "    .dataframe tbody tr th {\n",
       "        vertical-align: top;\n",
       "    }\n",
       "\n",
       "    .dataframe thead th {\n",
       "        text-align: right;\n",
       "    }\n",
       "</style>\n",
       "<table border=\"1\" class=\"dataframe\">\n",
       "  <thead>\n",
       "    <tr style=\"text-align: right;\">\n",
       "      <th></th>\n",
       "      <th>columns</th>\n",
       "      <th>importances</th>\n",
       "    </tr>\n",
       "  </thead>\n",
       "  <tbody>\n",
       "    <tr>\n",
       "      <th>56</th>\n",
       "      <td>ecr_i</td>\n",
       "      <td>0.302761</td>\n",
       "    </tr>\n",
       "    <tr>\n",
       "      <th>65</th>\n",
       "      <td>http</td>\n",
       "      <td>0.226688</td>\n",
       "    </tr>\n",
       "    <tr>\n",
       "      <th>1</th>\n",
       "      <td>src_bytes</td>\n",
       "      <td>0.162942</td>\n",
       "    </tr>\n",
       "    <tr>\n",
       "      <th>6</th>\n",
       "      <td>hot</td>\n",
       "      <td>0.052677</td>\n",
       "    </tr>\n",
       "    <tr>\n",
       "      <th>30</th>\n",
       "      <td>dst_host_same_srv_rate</td>\n",
       "      <td>0.030804</td>\n",
       "    </tr>\n",
       "    <tr>\n",
       "      <th>2</th>\n",
       "      <td>dst_bytes</td>\n",
       "      <td>0.028126</td>\n",
       "    </tr>\n",
       "    <tr>\n",
       "      <th>18</th>\n",
       "      <td>is_guest_login</td>\n",
       "      <td>0.024665</td>\n",
       "    </tr>\n",
       "    <tr>\n",
       "      <th>90</th>\n",
       "      <td>private</td>\n",
       "      <td>0.022009</td>\n",
       "    </tr>\n",
       "    <tr>\n",
       "      <th>19</th>\n",
       "      <td>count</td>\n",
       "      <td>0.019693</td>\n",
       "    </tr>\n",
       "    <tr>\n",
       "      <th>32</th>\n",
       "      <td>dst_host_same_src_port_rate</td>\n",
       "      <td>0.018934</td>\n",
       "    </tr>\n",
       "    <tr>\n",
       "      <th>38</th>\n",
       "      <td>icmp</td>\n",
       "      <td>0.011729</td>\n",
       "    </tr>\n",
       "    <tr>\n",
       "      <th>29</th>\n",
       "      <td>dst_host_srv_count</td>\n",
       "      <td>0.010055</td>\n",
       "    </tr>\n",
       "    <tr>\n",
       "      <th>35</th>\n",
       "      <td>dst_host_srv_serror_rate</td>\n",
       "      <td>0.009227</td>\n",
       "    </tr>\n",
       "    <tr>\n",
       "      <th>36</th>\n",
       "      <td>dst_host_rerror_rate</td>\n",
       "      <td>0.008403</td>\n",
       "    </tr>\n",
       "    <tr>\n",
       "      <th>34</th>\n",
       "      <td>dst_host_serror_rate</td>\n",
       "      <td>0.006630</td>\n",
       "    </tr>\n",
       "    <tr>\n",
       "      <th>61</th>\n",
       "      <td>ftp_data</td>\n",
       "      <td>0.006455</td>\n",
       "    </tr>\n",
       "    <tr>\n",
       "      <th>7</th>\n",
       "      <td>num_failed_logins</td>\n",
       "      <td>0.005613</td>\n",
       "    </tr>\n",
       "    <tr>\n",
       "      <th>33</th>\n",
       "      <td>dst_host_srv_diff_host_rate</td>\n",
       "      <td>0.004484</td>\n",
       "    </tr>\n",
       "    <tr>\n",
       "      <th>13</th>\n",
       "      <td>num_file_creations</td>\n",
       "      <td>0.004183</td>\n",
       "    </tr>\n",
       "    <tr>\n",
       "      <th>9</th>\n",
       "      <td>num_compromised</td>\n",
       "      <td>0.003718</td>\n",
       "    </tr>\n",
       "  </tbody>\n",
       "</table>\n",
       "</div>"
      ],
      "text/plain": [
       "                        columns  importances\n",
       "56                        ecr_i     0.302761\n",
       "65                         http     0.226688\n",
       "1                     src_bytes     0.162942\n",
       "6                           hot     0.052677\n",
       "30       dst_host_same_srv_rate     0.030804\n",
       "2                     dst_bytes     0.028126\n",
       "18               is_guest_login     0.024665\n",
       "90                      private     0.022009\n",
       "19                        count     0.019693\n",
       "32  dst_host_same_src_port_rate     0.018934\n",
       "38                         icmp     0.011729\n",
       "29           dst_host_srv_count     0.010055\n",
       "35     dst_host_srv_serror_rate     0.009227\n",
       "36         dst_host_rerror_rate     0.008403\n",
       "34         dst_host_serror_rate     0.006630\n",
       "61                     ftp_data     0.006455\n",
       "7             num_failed_logins     0.005613\n",
       "33  dst_host_srv_diff_host_rate     0.004484\n",
       "13           num_file_creations     0.004183\n",
       "9               num_compromised     0.003718"
      ]
     },
     "execution_count": 93,
     "metadata": {},
     "output_type": "execute_result"
    }
   ],
   "source": [
    "results=pd.DataFrame()\n",
    "results['columns']=X_train.columns\n",
    "results['importances'] = xg_cl.feature_importances_\n",
    "results.sort_values(by='importances',ascending=False,inplace=True)\n",
    "\n",
    "results[:20]"
   ]
  },
  {
   "cell_type": "code",
   "execution_count": null,
   "metadata": {},
   "outputs": [],
   "source": []
  },
  {
   "cell_type": "code",
   "execution_count": null,
   "metadata": {},
   "outputs": [],
   "source": []
  },
  {
   "cell_type": "code",
   "execution_count": 94,
   "metadata": {},
   "outputs": [
    {
     "data": {
      "text/plain": [
       "array([[8289, 4544],\n",
       "       [ 271, 9439]])"
      ]
     },
     "execution_count": 94,
     "metadata": {},
     "output_type": "execute_result"
    }
   ],
   "source": [
    "from sklearn.metrics import confusion_matrix\n",
    "confusion_matrix(y_test,preds)"
   ]
  },
  {
   "cell_type": "code",
   "execution_count": null,
   "metadata": {},
   "outputs": [],
   "source": [
    "tn, fp, fn, tp = confusion_matrix(y_test,preds).ravel()\n",
    "print(tn)\n",
    "print(fp)\n",
    "print(fn)\n",
    "print(tp)"
   ]
  },
  {
   "cell_type": "code",
   "execution_count": 28,
   "metadata": {},
   "outputs": [
    {
     "data": {
      "text/plain": [
       "(125973,)"
      ]
     },
     "execution_count": 28,
     "metadata": {},
     "output_type": "execute_result"
    }
   ],
   "source": [
    "y_train.shape"
   ]
  },
  {
   "cell_type": "code",
   "execution_count": null,
   "metadata": {},
   "outputs": [],
   "source": []
  },
  {
   "cell_type": "code",
   "execution_count": null,
   "metadata": {},
   "outputs": [],
   "source": []
  },
  {
   "cell_type": "code",
   "execution_count": null,
   "metadata": {},
   "outputs": [],
   "source": []
  },
  {
   "cell_type": "code",
   "execution_count": null,
   "metadata": {},
   "outputs": [],
   "source": []
  },
  {
   "cell_type": "code",
   "execution_count": null,
   "metadata": {},
   "outputs": [],
   "source": []
  },
  {
   "cell_type": "code",
   "execution_count": null,
   "metadata": {},
   "outputs": [],
   "source": []
  },
  {
   "cell_type": "code",
   "execution_count": null,
   "metadata": {},
   "outputs": [],
   "source": [
    "\n"
   ]
  },
  {
   "cell_type": "code",
   "execution_count": null,
   "metadata": {},
   "outputs": [],
   "source": []
  },
  {
   "cell_type": "code",
   "execution_count": null,
   "metadata": {},
   "outputs": [],
   "source": []
  },
  {
   "cell_type": "code",
   "execution_count": null,
   "metadata": {},
   "outputs": [],
   "source": []
  },
  {
   "cell_type": "code",
   "execution_count": null,
   "metadata": {},
   "outputs": [],
   "source": []
  },
  {
   "cell_type": "code",
   "execution_count": null,
   "metadata": {},
   "outputs": [],
   "source": []
  },
  {
   "cell_type": "code",
   "execution_count": null,
   "metadata": {},
   "outputs": [],
   "source": []
  },
  {
   "cell_type": "code",
   "execution_count": null,
   "metadata": {},
   "outputs": [],
   "source": []
  },
  {
   "cell_type": "code",
   "execution_count": null,
   "metadata": {},
   "outputs": [],
   "source": []
  },
  {
   "cell_type": "code",
   "execution_count": null,
   "metadata": {},
   "outputs": [],
   "source": []
  },
  {
   "cell_type": "code",
   "execution_count": null,
   "metadata": {},
   "outputs": [],
   "source": []
  },
  {
   "cell_type": "code",
   "execution_count": null,
   "metadata": {},
   "outputs": [],
   "source": []
  },
  {
   "cell_type": "code",
   "execution_count": null,
   "metadata": {},
   "outputs": [],
   "source": []
  }
 ],
 "metadata": {
  "kernelspec": {
   "display_name": "Python 3",
   "language": "python",
   "name": "python3"
  },
  "language_info": {
   "codemirror_mode": {
    "name": "ipython",
    "version": 3
   },
   "file_extension": ".py",
   "mimetype": "text/x-python",
   "name": "python",
   "nbconvert_exporter": "python",
   "pygments_lexer": "ipython3",
   "version": "3.7.3"
  }
 },
 "nbformat": 4,
 "nbformat_minor": 2
}
